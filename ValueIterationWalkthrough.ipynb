{
 "cells": [
  {
   "cell_type": "markdown",
   "metadata": {},
   "source": [
    "## Value Iteration\n",
    "\n",
    "In the next section of the notebook, we will be looking at convergence rates of Value Iteration methods. In particular, we will be demonstrating Gauss-Seidel, Jacobi, Gauss-Seidel-Jacobi, and Prioritized Sweeping variations on plain Value Iteration.\n",
    "\n",
    "Various resources that can help with the understanding of these methods can be found here:\n",
    "\n",
    "Prioritized sweeping:\n",
    "\n",
    "http://webdocs.cs.ualberta.ca/~sutton/book/ebook/node98.html\n",
    "http://ipvs.informatik.uni-stuttgart.de/mlr/wp-content/uploads/2016/04/02-MarkovDecisionProcess.pdf\n",
    "http://www.jmlr.org/papers/volume6/wingate05a/wingate05a.pdf\n",
    "\n",
    "Jacobi:\n",
    "\n",
    "https://tspace.library.utoronto.ca/bitstream/1807/24381/6/Shlakhter_Oleksandr_201003_PhD_thesis.pdf\n",
    "\n",
    "Gauss-Seidel\n",
    "\n",
    "http://ipvs.informatik.uni-stuttgart.de/mlr/wp-content/uploads/2016/04/02-MarkovDecisionProcess.pdf\n",
    "\n",
    "In addition sections 6.3 of Puterman (1994) and the Sutton Reinforcement Learning text have detailed descriptions of theoretical methods.\n"
   ]
  },
  {
   "cell_type": "code",
   "execution_count": null,
   "metadata": {
    "collapsed": true
   },
   "outputs": [],
   "source": [
    "%matplotlib inline\n",
    "\n",
    "from mdp_matrix import GridWorld\n",
    "from value_iteration_matrix import ValueIteration, GaussSeidelValueIteration, JacobiValueIteration, PrioritizedSweepingValueIteration, GaussSeidelJacobiValueIteration\n",
    "import matplotlib.pyplot as plt\n",
    "import numpy as np\n",
    "\n",
    "test_rewards = [[i, j, -1] for i in range(5) for j in range(5)]\n",
    "test_rewards[2] = [0, 2, 1]\n",
    "test_rewards[23] = [4,3,1]\n",
    "\n",
    "gw = GridWorld(5, test_rewards)\n",
    "\n",
    "vl = ValueIteration(gw)\n",
    "\n",
    "\n",
    "optimal_policy, optimal_value, _  = vl.run()\n",
    "optimal_policy, v, vs = vl.run(optimal_value=optimal_value, theta=0.01)\n",
    "plt.plot(vs)\n",
    "\n",
    "vl = GaussSeidelValueIteration(gw)\n",
    "\n",
    "optimal_policy, v, vsgs = vl.run(optimal_value=optimal_value, theta=0.01)\n",
    "plt.plot(vsgs)\n",
    "\n",
    "vl = JacobiValueIteration(gw)\n",
    "optimal_policy, v, vsj = vl.run(optimal_value=optimal_value, theta=0.01)\n",
    "plt.plot(vsj)\n",
    "\n",
    "vl = GaussSeidelJacobiValueIteration(gw)\n",
    "optimal_policy, v, vsj = vl.run(optimal_value=optimal_value, theta=0.01)\n",
    "plt.plot(vsj)\n",
    "\n",
    "vl = PrioritizedSweepingValueIteration(gw)\n",
    "optimal_policy, v, vsps = vl.run(optimal_value=optimal_value)\n",
    "plt.plot(vsps)\n",
    "\n",
    "plt.xlabel('state iterations')\n",
    "plt.ylabel('||v - v*||',color='b')\n",
    "\n",
    "plt.legend(['Value Iteration', 'Gauss-Seidel', 'Jacobi', 'Gauss-Seidel-Jacobi', 'Prioritized Sweeping Value Iteration'], loc='upper right')\n",
    "\n",
    "plt.show()\n"
   ]
  },
  {
   "cell_type": "code",
   "execution_count": null,
   "metadata": {
    "collapsed": true
   },
   "outputs": [],
   "source": []
  }
 ],
 "metadata": {
  "kernelspec": {
   "display_name": "Python 2",
   "language": "python",
   "name": "python2"
  },
  "language_info": {
   "codemirror_mode": {
    "name": "ipython",
    "version": 2
   },
   "file_extension": ".py",
   "mimetype": "text/x-python",
   "name": "python",
   "nbconvert_exporter": "python",
   "pygments_lexer": "ipython2",
   "version": "2.7.13"
  }
 },
 "nbformat": 4,
 "nbformat_minor": 2
}
