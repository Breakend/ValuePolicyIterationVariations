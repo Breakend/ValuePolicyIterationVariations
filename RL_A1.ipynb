{
 "cells": [
  {
   "cell_type": "code",
   "execution_count": 3,
   "metadata": {
    "collapsed": false
   },
   "outputs": [],
   "source": [
    "import numpy as np\n",
    "import pprint\n",
    "from operator import itemgetter"
   ]
  },
  {
   "cell_type": "code",
   "execution_count": 4,
   "metadata": {
    "collapsed": true
   },
   "outputs": [],
   "source": [
    "class MDP:\n",
    "    def __init__(self, T, S, R, A, act_list):        \n",
    "        # State space\n",
    "        # Integer number of states\n",
    "        self.S = S\n",
    "        \n",
    "        # Transition probabilities\n",
    "        # Form: np ndarray of shape (start_state, action, end_state)\n",
    "        self.T = T\n",
    "        \n",
    "        # Reward space\n",
    "        # Form: vector, rewards for each state\n",
    "        self.R = R\n",
    "        \n",
    "        # Action space\n",
    "        # integer, number of possible actions\n",
    "        self.A = A\n",
    "        \n",
    "        # Possible actions in the MDP\n",
    "        self.actions = act_list\n",
    "    "
   ]
  },
  {
   "cell_type": "code",
   "execution_count": 5,
   "metadata": {
    "collapsed": false
   },
   "outputs": [],
   "source": [
    "class Grid_world(MDP):\n",
    "    def __init__(self, grid_size, reward_pos):\n",
    "        S = grid_size*grid_size\n",
    "        \n",
    "        R = np.zeros((grid_size, grid_size))\n",
    "        \n",
    "        # Each row of reward_pos is a tuple: x, y, reward\n",
    "        for row in reward_pos:\n",
    "            R[row[0], row[1]] = row[2]\n",
    "        R = R.flatten()\n",
    "        \n",
    "        A = 4\n",
    "        act_list = ['S', 'E', 'N', 'W']\n",
    "        \n",
    "        T = np.zeros((S, A, S))\n",
    "        for start_state in range(S):\n",
    "            state_i = start_state/grid_size\n",
    "            state_j = (start_state)%grid_size\n",
    "            \n",
    "            # Actions indexed as: 0:S, 1:E, 2:N, 3:W\n",
    "            for act in range(A):\n",
    "                feas_grid = np.zeros((grid_size, grid_size))\n",
    "                if(act == 0 ):\n",
    "                    if(state_i+1 < grid_size):                        \n",
    "                        feas_grid[state_i+1, state_j] = 1\n",
    "                    else:\n",
    "                        feas_grid[state_i, state_j] = 1\n",
    "                        \n",
    "                elif(act == 1):\n",
    "                    if(state_j+1 < grid_size):                        \n",
    "                        feas_grid[state_i, state_j+1] = 1\n",
    "                    else:\n",
    "                        feas_grid[state_i, state_j] = 1                    \n",
    "                    \n",
    "                elif(act == 2):\n",
    "                    if(state_i-1 >= 0):                        \n",
    "                        feas_grid[state_i-1, state_j] = 1\n",
    "                    else:\n",
    "                        feas_grid[state_i, state_j] = 1                    \n",
    "                    \n",
    "                elif(act == 3):\n",
    "                    if(state_j-1 >= 0):                        \n",
    "                        feas_grid[state_i, state_j-1] = 1\n",
    "                    else:\n",
    "                        feas_grid[state_i, state_j] = 1                    \n",
    "                    \n",
    "                    \n",
    "                # Flatten the feasibility grid and assign to transition matrix\n",
    "                T[start_state, act, :] = feas_grid.flatten()\n",
    "        MDP.__init__(self, T, S, R, A, act_list)"
   ]
  },
  {
   "cell_type": "code",
   "execution_count": 6,
   "metadata": {
    "collapsed": false
   },
   "outputs": [
    {
     "name": "stdout",
     "output_type": "stream",
     "text": [
      "[[0, 0, -1], [0, 1, -1], [0, 2, 1], [0, 3, -1], [0, 4, -1], [1, 0, -1], [1, 1, -1], [1, 2, -1], [1, 3, -1], [1, 4, -1], [2, 0, -1], [2, 1, -1], [2, 2, -1], [2, 3, -1], [2, 4, -1], [3, 0, -1], [3, 1, -1], [3, 2, -1], [3, 3, -1], [3, 4, -1], [4, 0, -1], [4, 1, -1], [4, 2, -1], [4, 3, 1], [4, 4, -1]]\n"
     ]
    }
   ],
   "source": [
    "test_rewards = [[i, j, -1] for i in range(5) for j in range(5)]\n",
    "test_rewards[2] = [0, 2, 1]\n",
    "test_rewards[23] = [4,3,1]\n",
    "# test_rewards = [[0, 3, 5],\n",
    "#                 [0, 1, 10]]\n",
    "print test_rewards\n",
    "gw = Grid_world(5, test_rewards)"
   ]
  },
  {
   "cell_type": "code",
   "execution_count": 274,
   "metadata": {
    "collapsed": false
   },
   "outputs": [],
   "source": [
    "def policy_iteration(mdp, gamma = 0.1):\n",
    "    # Initialization\n",
    "    V = [0]*mdp.S\n",
    "    pol = [1]*mdp.S\n",
    "    old_V = V\n",
    "    n_iter = 0\n",
    "    while True:\n",
    "        # Policy evaluation\n",
    "        while True:\n",
    "            delta = 0.0\n",
    "            old_V = V\n",
    "            for s in range(mdp.S):\n",
    "                v = V[s]\n",
    "                V[s] = sum(mdp.T[s, pol[s], k] *\n",
    "                       (mdp.R[k] + gamma * V[k])\n",
    "                       for k in range(mdp.S))\n",
    "                delta = max(delta, abs(v-V[s]))                \n",
    "            if(delta < 0.001):\n",
    "                break\n",
    "        # Policy improvement\n",
    "        policy_stable = True\n",
    "        for s in range(mdp.S):\n",
    "            old_action = pol[s]\n",
    "            possibilities = [sum(mdp.T[s,a,k] *(mdp.R[k] + gamma * V[k]) for k in range(mdp.S)) for a in range(mdp.A)]\n",
    "            pol[s] = max(enumerate(possibilities), key=itemgetter(1))[0]\n",
    "            if(old_action != pol[s]):\n",
    "                policy_stable = False\n",
    "        if policy_stable:\n",
    "            return V, pol, n_iter\n",
    "        n_iter += 1"
   ]
  },
  {
   "cell_type": "code",
   "execution_count": 275,
   "metadata": {
    "collapsed": false
   },
   "outputs": [],
   "source": [
    "V, pol, n_iter = policy_iteration(gw)"
   ]
  },
  {
   "cell_type": "code",
   "execution_count": 276,
   "metadata": {
    "collapsed": false
   },
   "outputs": [
    {
     "name": "stdout",
     "output_type": "stream",
     "text": [
      "array([[-0.88888889,  1.11111111,  1.11111111,  1.11111111, -0.88888889],\n",
      "       [-1.08888889, -0.88888889,  1.11111111, -0.88888889, -1.08888889],\n",
      "       [-1.10888889, -1.08888889, -0.88888889, -0.88888889, -1.08888889],\n",
      "       [-1.10888889, -1.08888889, -0.88888889,  1.11111111, -0.88888889],\n",
      "       [-1.08888889, -0.88888889,  1.11111111,  1.11111111,  1.11111111]])\n",
      "array([[1, 1, 2, 3, 3],\n",
      "       [1, 1, 2, 2, 2],\n",
      "       [1, 1, 2, 0, 0],\n",
      "       [0, 0, 0, 0, 0],\n",
      "       [1, 1, 1, 0, 3]])\n",
      "3\n"
     ]
    }
   ],
   "source": [
    "# Now observe the obtained value and policy:\n",
    "pprint.pprint(np.reshape(V,(5,5)))\n",
    "pprint.pprint(np.reshape(pol,(5,5)))\n",
    "print n_iter "
   ]
  },
  {
   "cell_type": "code",
   "execution_count": 48,
   "metadata": {
    "collapsed": false
   },
   "outputs": [],
   "source": [
    "def policy_iteration_by_inversion(mdp, gamma = 0.9):\n",
    "    # Initialization\n",
    "    V = [0]*mdp.S\n",
    "    pol = [1]*mdp.S\n",
    "    old_V = V\n",
    "    n_iter = 0\n",
    "    while True:\n",
    "        # Policy evaluation\n",
    "        V = [np.linalg.solve((np.eye(mdp.S, mdp.S) - gamma * mdp.T[:, pol[k], :]), mdp.R) for k in range(mdp.S)]\n",
    "        V = V[0]\n",
    "        # Policy improvement\n",
    "        policy_stable = True\n",
    "        for s in range(mdp.S):\n",
    "            old_action = pol[s]\n",
    "            possibilities = [sum(mdp.T[s,a,k] *(mdp.R[k] + gamma * V[k]) for k in range(mdp.S)) for a in range(mdp.A)]\n",
    "            pol[s] = max(enumerate(possibilities), key=itemgetter(1))[0]\n",
    "            if(old_action != pol[s]):\n",
    "                policy_stable = False        \n",
    "        if policy_stable:\n",
    "            return V, pol, n_iter\n",
    "        n_iter += 1"
   ]
  },
  {
   "cell_type": "code",
   "execution_count": 49,
   "metadata": {
    "collapsed": false
   },
   "outputs": [],
   "source": [
    "V_2, pol_2, n_iter2 = policy_iteration_by_inversion(gw)"
   ]
  },
  {
   "cell_type": "code",
   "execution_count": 50,
   "metadata": {
    "collapsed": false
   },
   "outputs": [
    {
     "name": "stdout",
     "output_type": "stream",
     "text": [
      "array([[ -8.38 ,  -8.2  ,  -8.   , -10.   , -10.   ],\n",
      "       [-10.   , -10.   , -10.   , -10.   , -10.   ],\n",
      "       [-10.   , -10.   , -10.   , -10.   , -10.   ],\n",
      "       [-10.   , -10.   , -10.   , -10.   , -10.   ],\n",
      "       [ -8.542,  -8.38 ,  -8.2  ,  -8.   , -10.   ]])\n",
      "array([[1, 1, 2, 3, 0],\n",
      "       [2, 2, 2, 0, 0],\n",
      "       [0, 0, 0, 0, 0],\n",
      "       [0, 0, 0, 0, 0],\n",
      "       [1, 1, 1, 0, 3]])\n",
      "1\n"
     ]
    }
   ],
   "source": [
    "# Now observe the obtained value and policy:\n",
    "pprint.pprint(np.reshape(V_2,(5,5)))\n",
    "pprint.pprint(np.reshape(pol_2,(5,5)))\n",
    "print n_iter2"
   ]
  },
  {
   "cell_type": "code",
   "execution_count": 25,
   "metadata": {
    "collapsed": false
   },
   "outputs": [],
   "source": [
    "def modified_policy_iteration(mdp, epsilon = 0.1, gamma = 0.9, m = 20):\n",
    "    # Initialization\n",
    "    V = [0]*mdp.S\n",
    "    pol = [1]*mdp.S\n",
    "#     old_V = V\n",
    "    n_iter = 0\n",
    "    \n",
    "    while True:\n",
    "        u = []\n",
    "        u.append([])\n",
    "        \n",
    "        # Policy improvement\n",
    "        policy_stable = True\n",
    "        for s in range(mdp.S):\n",
    "            old_action = pol[s]\n",
    "            possibilities = [sum(mdp.T[s,a,k] *(mdp.R[k] + gamma * V[k]) for k in range(mdp.S)) for a in range(mdp.A)]\n",
    "            pol[s] = max(enumerate(possibilities), key=itemgetter(1))[0]\n",
    "            u[0].append(max(possibilities))\n",
    "            if old_action != pol[s]:\n",
    "                policy_stable = False\n",
    "#         if policy_stable:\n",
    "#             return V, pol, n_iter\n",
    "        u.append([])\n",
    "        # Policy evaluation\n",
    "        i = 0\n",
    "        if np.linalg.norm(np.asarray(u[0]) - np.asarray(V)) < epsilon/(2*gamma):\n",
    "            return V, pol, n_iter\n",
    "        \n",
    "        while True:\n",
    "            if (i == m):\n",
    "                V = u[i]\n",
    "                n_iter+=1\n",
    "                break\n",
    "            else:\n",
    "                for s in range(mdp.S):\n",
    "                    u[i+1].append(sum(mdp.T[s, pol[s], k] * (mdp.R[k] + gamma * u[i][k]) for k in range(mdp.S)))\n",
    "                    u.append([])\n",
    "\n",
    "            if np.linalg.norm(np.asarray(u[i+1]) - np.asarray(u[i])) < epsilon/(2*gamma):\n",
    "                V = u[i]\n",
    "                n_iter+=1\n",
    "                break\n",
    "            else:\n",
    "                i+=1\n",
    "        n_iter += 1"
   ]
  },
  {
   "cell_type": "code",
   "execution_count": 26,
   "metadata": {
    "collapsed": false
   },
   "outputs": [],
   "source": [
    "V_3, pol_3, n_iter3 = modified_policy_iteration(gw)"
   ]
  },
  {
   "cell_type": "code",
   "execution_count": 27,
   "metadata": {
    "collapsed": false
   },
   "outputs": [
    {
     "name": "stdout",
     "output_type": "stream",
     "text": [
      "array([[ 7.89224736,  9.89224736,  9.89224736,  9.89224736,  7.89224736],\n",
      "       [ 6.09224736,  7.89224736,  9.89224736,  7.89224736,  6.09224736],\n",
      "       [ 4.47224736,  6.09224736,  7.89224736,  7.89224736,  6.09224736],\n",
      "       [ 4.47224736,  6.09224736,  7.89224736,  9.89224736,  7.89224736],\n",
      "       [ 6.09224736,  7.89224736,  9.89224736,  9.89224736,  9.89224736]])\n",
      "array([[1, 1, 2, 3, 3],\n",
      "       [1, 1, 2, 2, 2],\n",
      "       [1, 1, 2, 0, 0],\n",
      "       [0, 0, 0, 0, 0],\n",
      "       [1, 1, 1, 0, 3]])\n",
      "6\n"
     ]
    }
   ],
   "source": [
    "# Now observe the obtained value and policy:\n",
    "pprint.pprint(np.reshape(V_3,(5,5)))\n",
    "pprint.pprint(np.reshape(pol_3,(5,5)))\n",
    "print n_iter3"
   ]
  },
  {
   "cell_type": "code",
   "execution_count": null,
   "metadata": {
    "collapsed": true
   },
   "outputs": [],
   "source": []
  }
 ],
 "metadata": {
  "celltoolbar": "Raw Cell Format",
  "kernelspec": {
   "display_name": "Python 2",
   "language": "python",
   "name": "python2"
  },
  "language_info": {
   "codemirror_mode": {
    "name": "ipython",
    "version": 2
   },
   "file_extension": ".py",
   "mimetype": "text/x-python",
   "name": "python",
   "nbconvert_exporter": "python",
   "pygments_lexer": "ipython2",
   "version": "2.7.13"
  }
 },
 "nbformat": 4,
 "nbformat_minor": 1
}
