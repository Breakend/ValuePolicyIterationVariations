{
 "cells": [
  {
   "cell_type": "code",
   "execution_count": 1,
   "metadata": {
    "collapsed": false
   },
   "outputs": [],
   "source": [
    "import numpy as np"
   ]
  },
  {
   "cell_type": "code",
   "execution_count": 2,
   "metadata": {
    "collapsed": true
   },
   "outputs": [],
   "source": [
    "class MDP:\n",
    "    def __init__(self, T, S, R, A, act_list):        \n",
    "        # State space\n",
    "        # Integer number of states\n",
    "        self.S = S\n",
    "        \n",
    "        # Transition probabilities\n",
    "        # Form: np ndarray of shape (start_state, action, end_state)\n",
    "        self.T = np.array(T)\n",
    "        \n",
    "        # Reward space\n",
    "        # Form: vector, rewards for each state\n",
    "        self.R = np.array(R)\n",
    "        \n",
    "        # Action space\n",
    "        # integer, number of possible actions\n",
    "        self.A = A\n",
    "        \n",
    "        # Possible actions in the MDP\n",
    "        self.actions = act_list\n",
    "    "
   ]
  },
  {
   "cell_type": "code",
   "execution_count": 3,
   "metadata": {
    "collapsed": false
   },
   "outputs": [],
   "source": [
    "class Grid_world(MDP):\n",
    "    def __init__(self, grid_size, reward_pos):\n",
    "        S = grid_size*grid_size\n",
    "        \n",
    "        R = np.zeros((grid_size, grid_size))\n",
    "        \n",
    "        # Each row of reward_pos is a tuple: x, y, reward\n",
    "        for row in reward_pos:\n",
    "            R[row[0], row[1]] = row[2]\n",
    "        R = R.flatten()\n",
    "        \n",
    "        A = 4\n",
    "        act_list = ['S', 'E', 'N', 'W']\n",
    "        \n",
    "        T = np.zeros((S, A, S))\n",
    "        for start_state in range(S):\n",
    "            state_i = start_state/grid_size\n",
    "            state_j = (start_state)%grid_size\n",
    "            \n",
    "            # Actions indexed as: 0:S, 1:E, 2:N, 3:W\n",
    "            for act in range(A):\n",
    "                feas_grid = np.zeros((grid_size, grid_size))\n",
    "                if(act == 0 and state_i+1 < grid_size):\n",
    "                    feas_grid[state_i+1, state_j] = 1\n",
    "                elif(act == 1 and state_j+1 < grid_size):\n",
    "                    feas_grid[state_i, state_j+1] = 1\n",
    "                elif(act == 2 and state_i-1 >= 0):\n",
    "                    feas_grid[state_i-1, state_j] = 1\n",
    "                elif(act == 3 and state_j-1 >= 0):\n",
    "                    feas_grid[state_i, state_j-1] = 1\n",
    "                    \n",
    "                # Flatten the feasibility grid and assign to transition matrix\n",
    "                T[start_state, act, :] = feas_grid.flatten()\n",
    "        MDP.__init__(self, T, S, R, A, act_list)"
   ]
  },
  {
   "cell_type": "code",
   "execution_count": 4,
   "metadata": {
    "collapsed": false
   },
   "outputs": [],
   "source": [
    "test_rewards = [[0, 3, 5], [0, 1, 10]]\n",
    "gw = Grid_world(5, test_rewards)"
   ]
  },
  {
   "cell_type": "code",
   "execution_count": 96,
   "metadata": {
    "collapsed": false
   },
   "outputs": [
    {
     "name": "stdout",
     "output_type": "stream",
     "text": [
      "25\n"
     ]
    }
   ],
   "source": [
    "print gw.S"
   ]
  },
  {
   "cell_type": "code",
   "execution_count": 98,
   "metadata": {
    "collapsed": false
   },
   "outputs": [
    {
     "name": "stdout",
     "output_type": "stream",
     "text": [
      "[[ 0.  0.  0.  0.  0.  0.  1.  0.  0.  0.  0.  0.  0.  0.  0.  0.  0.  0.\n",
      "   0.  0.  0.  0.  0.  0.  0.]\n",
      " [ 0.  0.  1.  0.  0.  0.  0.  0.  0.  0.  0.  0.  0.  0.  0.  0.  0.  0.\n",
      "   0.  0.  0.  0.  0.  0.  0.]\n",
      " [ 0.  0.  0.  0.  0.  0.  0.  0.  0.  0.  0.  0.  0.  0.  0.  0.  0.  0.\n",
      "   0.  0.  0.  0.  0.  0.  0.]\n",
      " [ 1.  0.  0.  0.  0.  0.  0.  0.  0.  0.  0.  0.  0.  0.  0.  0.  0.  0.\n",
      "   0.  0.  0.  0.  0.  0.  0.]]\n"
     ]
    }
   ],
   "source": [
    "print gw.T[1]"
   ]
  }
 ],
 "metadata": {
  "kernelspec": {
   "display_name": "Python 2",
   "language": "python",
   "name": "python2"
  },
  "language_info": {
   "codemirror_mode": {
    "name": "ipython",
    "version": 2
   },
   "file_extension": ".py",
   "mimetype": "text/x-python",
   "name": "python",
   "nbconvert_exporter": "python",
   "pygments_lexer": "ipython2",
   "version": "2.7.13"
  }
 },
 "nbformat": 4,
 "nbformat_minor": 1
}
