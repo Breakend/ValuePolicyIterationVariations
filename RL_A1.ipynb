{
 "cells": [
  {
   "cell_type": "code",
   "execution_count": 2,
   "metadata": {
    "collapsed": false
   },
   "outputs": [],
   "source": [
    "import numpy as np\n",
    "import pprint\n",
    "from operator import itemgetter"
   ]
  },
  {
   "cell_type": "code",
   "execution_count": 3,
   "metadata": {
    "collapsed": true
   },
   "outputs": [],
   "source": [
    "class MDP:\n",
    "    def __init__(self, T, S, R, A, act_list):        \n",
    "        # State space\n",
    "        # Integer number of states\n",
    "        self.S = S\n",
    "        \n",
    "        # Transition probabilities\n",
    "        # Form: np ndarray of shape (start_state, action, end_state)\n",
    "        self.T = T\n",
    "        \n",
    "        # Reward space\n",
    "        # Form: vector, rewards for each state\n",
    "        self.R = R\n",
    "        \n",
    "        # Action space\n",
    "        # integer, number of possible actions\n",
    "        self.A = A\n",
    "        \n",
    "        # Possible actions in the MDP\n",
    "        self.actions = act_list\n",
    "    "
   ]
  },
  {
   "cell_type": "code",
   "execution_count": 4,
   "metadata": {
    "collapsed": false
   },
   "outputs": [],
   "source": [
    "class Grid_world(MDP):\n",
    "    def __init__(self, grid_size, reward_pos):\n",
    "        S = grid_size*grid_size\n",
    "        \n",
    "        R = np.zeros((grid_size, grid_size))\n",
    "        \n",
    "        # Each row of reward_pos is a tuple: x, y, reward\n",
    "        for row in reward_pos:\n",
    "            R[row[0], row[1]] = row[2]\n",
    "        R = R.flatten()\n",
    "        \n",
    "        A = 4\n",
    "        act_list = ['S', 'E', 'N', 'W']\n",
    "        \n",
    "        T = np.zeros((S, A, S))\n",
    "        for start_state in range(S):\n",
    "            state_i = start_state/grid_size\n",
    "            state_j = (start_state)%grid_size\n",
    "            \n",
    "            # Actions indexed as: 0:S, 1:E, 2:N, 3:W\n",
    "            for act in range(A):\n",
    "                feas_grid = np.zeros((grid_size, grid_size))\n",
    "                if(act == 0 ):\n",
    "                    if(state_i+1 < grid_size):                        \n",
    "                        feas_grid[state_i+1, state_j] = 1\n",
    "                    else:\n",
    "                        feas_grid[state_i, state_j] = 1\n",
    "                        \n",
    "                elif(act == 1):\n",
    "                    if(state_j+1 < grid_size):                        \n",
    "                        feas_grid[state_i, state_j+1] = 1\n",
    "                    else:\n",
    "                        feas_grid[state_i, state_j] = 1                    \n",
    "                    \n",
    "                elif(act == 2):\n",
    "                    if(state_i-1 >= 0):                        \n",
    "                        feas_grid[state_i-1, state_j] = 1\n",
    "                    else:\n",
    "                        feas_grid[state_i, state_j] = 1                    \n",
    "                    \n",
    "                elif(act == 3):\n",
    "                    if(state_j-1 >= 0):                        \n",
    "                        feas_grid[state_i, state_j-1] = 1\n",
    "                    else:\n",
    "                        feas_grid[state_i, state_j] = 1                    \n",
    "                    \n",
    "                    \n",
    "                # Flatten the feasibility grid and assign to transition matrix\n",
    "                T[start_state, act, :] = feas_grid.flatten()\n",
    "        MDP.__init__(self, T, S, R, A, act_list)"
   ]
  },
  {
   "cell_type": "code",
   "execution_count": 5,
   "metadata": {
    "collapsed": false
   },
   "outputs": [
    {
     "name": "stdout",
     "output_type": "stream",
     "text": [
      "[[0, 0, -1], [0, 1, -1], [0, 2, 1], [0, 3, -1], [0, 4, -1], [1, 0, -1], [1, 1, -1], [1, 2, -1], [1, 3, -1], [1, 4, -1], [2, 0, -1], [2, 1, -1], [2, 2, -1], [2, 3, -1], [2, 4, -1], [3, 0, -1], [3, 1, -1], [3, 2, -1], [3, 3, -1], [3, 4, -1], [4, 0, -1], [4, 1, -1], [4, 2, -1], [4, 3, 1], [4, 4, -1]]\n"
     ]
    }
   ],
   "source": [
    "test_rewards = [[i, j, -1] for i in range(5) for j in range(5)]\n",
    "test_rewards[2] = [0, 2, 1]\n",
    "test_rewards[23] = [4,3,1]\n",
    "# test_rewards = [[0, 3, 5],\n",
    "#                 [0, 1, 10]]\n",
    "print test_rewards\n",
    "gw = Grid_world(5, test_rewards)"
   ]
  },
  {
   "cell_type": "code",
   "execution_count": 163,
   "metadata": {
    "collapsed": false
   },
   "outputs": [],
   "source": [
    "def policy_iteration(mdp, gamma = 0.1):\n",
    "    # Initialization\n",
    "    V = [0]*mdp.S\n",
    "    pol = [1]*mdp.S\n",
    "    old_V = V\n",
    "    while True:\n",
    "        # Policy evaluation\n",
    "        while True:\n",
    "            delta = 0.0\n",
    "            for s in range(mdp.S):\n",
    "                v = V[s]\n",
    "                old_V[s] = V[s]\n",
    "                V[s] = sum(mdp.T[s, pol[s], k] *\n",
    "                       (mdp.R[k] + gamma * V[k])\n",
    "                       for k in range(mdp.S))\n",
    "                delta = max(delta, abs(v-V[s]))                \n",
    "            if(delta < 0.000001):\n",
    "                break\n",
    "        # Policy improvement\n",
    "        policy_stable = True\n",
    "        for s in range(mdp.S):\n",
    "            old_action = pol[s]\n",
    "            possibilities = [sum(mdp.T[s,a,k] *(mdp.R[k] + gamma * V[k]) for k in range(mdp.S)) for a in range(mdp.A)]\n",
    "            pol[s] = max(enumerate(possibilities), key=itemgetter(1))[0]\n",
    "            if(old_action != pol[s]):\n",
    "                policy_stable = False\n",
    "        if policy_stable:\n",
    "            return V, pol"
   ]
  },
  {
   "cell_type": "code",
   "execution_count": 164,
   "metadata": {
    "collapsed": false
   },
   "outputs": [],
   "source": [
    "V, pol = policy_iteration(gw)"
   ]
  },
  {
   "cell_type": "code",
   "execution_count": 165,
   "metadata": {
    "collapsed": false
   },
   "outputs": [
    {
     "name": "stdout",
     "output_type": "stream",
     "text": [
      "array([[-0.88888889,  1.11111111,  1.11111111,  1.11111111, -0.88888889],\n",
      "       [-1.08888889, -0.88888889,  1.11111111, -0.88888889, -1.08888889],\n",
      "       [-1.10888889, -1.08888889, -0.88888889, -0.88888889, -1.08888889],\n",
      "       [-1.10888889, -1.08888889, -0.88888889,  1.11111111, -0.88888889],\n",
      "       [-1.08888889, -0.88888889,  1.11111111,  1.11111111,  1.11111111]])\n",
      "array([[1, 1, 2, 3, 3],\n",
      "       [1, 1, 2, 2, 2],\n",
      "       [1, 1, 2, 0, 0],\n",
      "       [0, 0, 0, 0, 0],\n",
      "       [1, 1, 1, 0, 3]])\n"
     ]
    }
   ],
   "source": [
    "# Now observe the obtained value and policy:\n",
    "pprint.pprint(np.reshape(V,(5,5)))\n",
    "pprint.pprint(np.reshape(pol,(5,5)))"
   ]
  },
  {
   "cell_type": "code",
   "execution_count": 166,
   "metadata": {
    "collapsed": false
   },
   "outputs": [],
   "source": [
    "def policy_iteration_by_inversion(mdp, gamma = 0.1):\n",
    "    # Initialization\n",
    "    V = [0]*mdp.S\n",
    "    pol = [1]*mdp.S\n",
    "    old_V = V\n",
    "    while True:\n",
    "        # Policy evaluation\n",
    "        V = [np.dot(\n",
    "                np.linalg.inv(np.eye(mdp.S, mdp.S) - gamma*mdp.T[:, pol[k], :]), \n",
    "                np.dot(mdp.T[:, pol[k], :], mdp.R)) for k in range(mdp.S)]\n",
    "#         V = [np.linalg.solve((np.eye(mdp.S, mdp.S) - gamma * mdp.T[:, pol[k], :]), mdp.R) for k in range(mdp.S)]\n",
    "        V = V[0]\n",
    "        \n",
    "        # Policy improvement\n",
    "        policy_stable = True\n",
    "        for s in range(mdp.S):\n",
    "            old_action = pol[s]\n",
    "            possibilities = [sum(mdp.T[s,a,k] *(mdp.R[k] + gamma * V[k]) for k in range(mdp.S)) for a in range(mdp.A)]\n",
    "            pol[s] = max(enumerate(possibilities), key=itemgetter(1))[0]\n",
    "            if(old_action != pol[s]):\n",
    "                policy_stable = False\n",
    "        if policy_stable:\n",
    "            return V, pol"
   ]
  },
  {
   "cell_type": "code",
   "execution_count": 167,
   "metadata": {
    "collapsed": false
   },
   "outputs": [],
   "source": [
    "V_2, pol_2 = policy_iteration_by_inversion(gw)"
   ]
  },
  {
   "cell_type": "code",
   "execution_count": 168,
   "metadata": {
    "collapsed": false
   },
   "outputs": [
    {
     "name": "stdout",
     "output_type": "stream",
     "text": [
      "array([[-0.91111111,  0.88888889, -1.11111111, -1.11111111, -1.11111111],\n",
      "       [-1.11111111, -1.11111111, -1.11111111, -1.11111111, -1.11111111],\n",
      "       [-1.11111111, -1.11111111, -1.11111111, -1.11111111, -1.11111111],\n",
      "       [-1.11111111, -1.11111111, -1.11111111, -1.11111111, -1.11111111],\n",
      "       [-1.09111111, -0.91111111,  0.88888889, -1.11111111, -1.11111111]])\n",
      "array([[1, 1, 2, 3, 0],\n",
      "       [2, 2, 2, 0, 0],\n",
      "       [0, 0, 0, 0, 0],\n",
      "       [0, 0, 0, 0, 0],\n",
      "       [1, 1, 1, 0, 3]])\n"
     ]
    }
   ],
   "source": [
    "# Now observe the obtained value and policy:\n",
    "pprint.pprint(np.reshape(V_2,(5,5)))\n",
    "pprint.pprint(np.reshape(pol_2,(5,5)))"
   ]
  },
  {
   "cell_type": "code",
   "execution_count": null,
   "metadata": {
    "collapsed": true
   },
   "outputs": [],
   "source": []
  }
 ],
 "metadata": {
  "celltoolbar": "Raw Cell Format",
  "kernelspec": {
   "display_name": "Python 2",
   "language": "python",
   "name": "python2"
  },
  "language_info": {
   "codemirror_mode": {
    "name": "ipython",
    "version": 2
   },
   "file_extension": ".py",
   "mimetype": "text/x-python",
   "name": "python",
   "nbconvert_exporter": "python",
   "pygments_lexer": "ipython2",
   "version": "2.7.13"
  }
 },
 "nbformat": 4,
 "nbformat_minor": 1
}
